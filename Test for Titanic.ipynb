{
 "cells": [
  {
   "cell_type": "code",
   "execution_count": 6,
   "metadata": {},
   "outputs": [
    {
     "name": "stdout",
     "output_type": "stream",
     "text": [
      "Original array:\n",
      "[3 2 9 8 0]\n",
      "[array([3, 2]), array([9, 8]), array([0])]\n"
     ]
    },
    {
     "data": {
      "text/plain": [
       "'print(\"Most frequent value in the above array:\")\\ncounts = np.bincount(x)\\nprint(counts)\\nprint(counts.argmax())'"
      ]
     },
     "execution_count": 6,
     "metadata": {},
     "output_type": "execute_result"
    }
   ],
   "source": [
    "import numpy as np\n",
    "import mltools as ml\n",
    "import matplotlib.pyplot as plt\n",
    "\n",
    "x = np.array([3, 2, 9, 8, 0])\n",
    "print(\"Original array:\")\n",
    "print(x)\n",
    "\n",
    "print(np.array_split(x, 3))\n",
    "#print(x[0])\n",
    "\n",
    "'''print(\"Most frequent value in the above array:\")\n",
    "counts = np.bincount(x)\n",
    "print(counts)\n",
    "print(counts.argmax())'''\n"
   ]
  },
  {
   "cell_type": "code",
   "execution_count": 19,
   "metadata": {},
   "outputs": [
    {
     "name": "stdout",
     "output_type": "stream",
     "text": [
      "['PassengerId', 'Survived', 'Pclass', 'Name', 'Sex', 'Age', 'SibSp', 'Parch', 'Ticket', 'Fare', 'Cabin', 'Embarked']\n"
     ]
    }
   ],
   "source": [
    "import csv\n",
    "file = open(\"train.csv\")\n",
    "reader = csv.reader(file)\n",
    "header = next(reader)\n",
    "print(header)\n",
    "with open(\"train.txt\", \"w\") as f:\n",
    "    for raw in reader:\n",
    "        if len(raw) < 11:\n",
    "            continue\n",
    "        for i in range(len(raw)):\n",
    "            if i in [2, 5, 6, 9]:\n",
    "                f.write(raw[i])\n",
    "                f.write(\"\\t\")\n",
    "\n",
    "            elif i in [0, 1, 3]:\n",
    "                continue\n",
    "            \n",
    "            elif i == 4:\n",
    "                if (raw[i] == \"female\"):\n",
    "                    f.write(\"0\")\n",
    "                else:\n",
    "                    f.write(\"1\")\n",
    "                f.write(\"\\t\")\n",
    "        f.write(raw[1] + \"\\n\")\n",
    "# in train.txt --> ['Pclass', 'Sex', 'Age', 'SibSp', 'Fare', 'Survived']"
   ]
  },
  {
   "cell_type": "code",
   "execution_count": 18,
   "metadata": {},
   "outputs": [
    {
     "ename": "ValueError",
     "evalue": "Some errors were detected !\n    Line #6 (got 5 columns instead of 6)\n    Line #18 (got 5 columns instead of 6)\n    Line #20 (got 5 columns instead of 6)\n    Line #27 (got 5 columns instead of 6)\n    Line #29 (got 5 columns instead of 6)\n    Line #30 (got 5 columns instead of 6)\n    Line #32 (got 5 columns instead of 6)\n    Line #33 (got 5 columns instead of 6)\n    Line #37 (got 5 columns instead of 6)\n    Line #43 (got 5 columns instead of 6)\n    Line #46 (got 5 columns instead of 6)\n    Line #47 (got 5 columns instead of 6)\n    Line #48 (got 5 columns instead of 6)\n    Line #49 (got 5 columns instead of 6)\n    Line #56 (got 5 columns instead of 6)\n    Line #65 (got 5 columns instead of 6)\n    Line #66 (got 5 columns instead of 6)\n    Line #77 (got 5 columns instead of 6)\n    Line #78 (got 5 columns instead of 6)\n    Line #83 (got 5 columns instead of 6)\n    Line #88 (got 5 columns instead of 6)\n    Line #96 (got 5 columns instead of 6)\n    Line #102 (got 5 columns instead of 6)\n    Line #108 (got 5 columns instead of 6)\n    Line #110 (got 5 columns instead of 6)\n    Line #122 (got 5 columns instead of 6)\n    Line #127 (got 5 columns instead of 6)\n    Line #129 (got 5 columns instead of 6)\n    Line #141 (got 5 columns instead of 6)\n    Line #155 (got 5 columns instead of 6)\n    Line #159 (got 5 columns instead of 6)\n    Line #160 (got 5 columns instead of 6)\n    Line #167 (got 5 columns instead of 6)\n    Line #169 (got 5 columns instead of 6)\n    Line #177 (got 5 columns instead of 6)\n    Line #181 (got 5 columns instead of 6)\n    Line #182 (got 5 columns instead of 6)\n    Line #186 (got 5 columns instead of 6)\n    Line #187 (got 5 columns instead of 6)\n    Line #197 (got 5 columns instead of 6)\n    Line #199 (got 5 columns instead of 6)\n    Line #202 (got 5 columns instead of 6)\n    Line #215 (got 5 columns instead of 6)\n    Line #224 (got 5 columns instead of 6)\n    Line #230 (got 5 columns instead of 6)\n    Line #236 (got 5 columns instead of 6)\n    Line #241 (got 5 columns instead of 6)\n    Line #242 (got 5 columns instead of 6)\n    Line #251 (got 5 columns instead of 6)\n    Line #257 (got 5 columns instead of 6)\n    Line #261 (got 5 columns instead of 6)\n    Line #265 (got 5 columns instead of 6)\n    Line #271 (got 5 columns instead of 6)\n    Line #275 (got 5 columns instead of 6)\n    Line #278 (got 5 columns instead of 6)\n    Line #285 (got 5 columns instead of 6)\n    Line #296 (got 5 columns instead of 6)\n    Line #299 (got 5 columns instead of 6)\n    Line #301 (got 5 columns instead of 6)\n    Line #302 (got 5 columns instead of 6)\n    Line #304 (got 5 columns instead of 6)\n    Line #305 (got 5 columns instead of 6)\n    Line #307 (got 5 columns instead of 6)\n    Line #325 (got 5 columns instead of 6)\n    Line #331 (got 5 columns instead of 6)\n    Line #335 (got 5 columns instead of 6)\n    Line #336 (got 5 columns instead of 6)\n    Line #348 (got 5 columns instead of 6)\n    Line #352 (got 5 columns instead of 6)\n    Line #355 (got 5 columns instead of 6)\n    Line #359 (got 5 columns instead of 6)\n    Line #360 (got 5 columns instead of 6)\n    Line #365 (got 5 columns instead of 6)\n    Line #368 (got 5 columns instead of 6)\n    Line #369 (got 5 columns instead of 6)\n    Line #376 (got 5 columns instead of 6)\n    Line #385 (got 5 columns instead of 6)\n    Line #389 (got 5 columns instead of 6)\n    Line #410 (got 5 columns instead of 6)\n    Line #411 (got 5 columns instead of 6)\n    Line #412 (got 5 columns instead of 6)\n    Line #414 (got 5 columns instead of 6)\n    Line #416 (got 5 columns instead of 6)\n    Line #421 (got 5 columns instead of 6)\n    Line #426 (got 5 columns instead of 6)\n    Line #429 (got 5 columns instead of 6)\n    Line #432 (got 5 columns instead of 6)\n    Line #445 (got 5 columns instead of 6)\n    Line #452 (got 5 columns instead of 6)\n    Line #455 (got 5 columns instead of 6)\n    Line #458 (got 5 columns instead of 6)\n    Line #460 (got 5 columns instead of 6)\n    Line #465 (got 5 columns instead of 6)\n    Line #467 (got 5 columns instead of 6)\n    Line #469 (got 5 columns instead of 6)\n    Line #471 (got 5 columns instead of 6)\n    Line #476 (got 5 columns instead of 6)\n    Line #482 (got 5 columns instead of 6)\n    Line #486 (got 5 columns instead of 6)\n    Line #491 (got 5 columns instead of 6)\n    Line #496 (got 5 columns instead of 6)\n    Line #498 (got 5 columns instead of 6)\n    Line #503 (got 5 columns instead of 6)\n    Line #508 (got 5 columns instead of 6)\n    Line #512 (got 5 columns instead of 6)\n    Line #518 (got 5 columns instead of 6)\n    Line #523 (got 5 columns instead of 6)\n    Line #525 (got 5 columns instead of 6)\n    Line #528 (got 5 columns instead of 6)\n    Line #532 (got 5 columns instead of 6)\n    Line #534 (got 5 columns instead of 6)\n    Line #539 (got 5 columns instead of 6)\n    Line #548 (got 5 columns instead of 6)\n    Line #553 (got 5 columns instead of 6)\n    Line #558 (got 5 columns instead of 6)\n    Line #561 (got 5 columns instead of 6)\n    Line #564 (got 5 columns instead of 6)\n    Line #565 (got 5 columns instead of 6)\n    Line #569 (got 5 columns instead of 6)\n    Line #574 (got 5 columns instead of 6)\n    Line #579 (got 5 columns instead of 6)\n    Line #585 (got 5 columns instead of 6)\n    Line #590 (got 5 columns instead of 6)\n    Line #594 (got 5 columns instead of 6)\n    Line #597 (got 5 columns instead of 6)\n    Line #599 (got 5 columns instead of 6)\n    Line #602 (got 5 columns instead of 6)\n    Line #603 (got 5 columns instead of 6)\n    Line #612 (got 5 columns instead of 6)\n    Line #613 (got 5 columns instead of 6)\n    Line #614 (got 5 columns instead of 6)\n    Line #630 (got 5 columns instead of 6)\n    Line #634 (got 5 columns instead of 6)\n    Line #640 (got 5 columns instead of 6)\n    Line #644 (got 5 columns instead of 6)\n    Line #649 (got 5 columns instead of 6)\n    Line #651 (got 5 columns instead of 6)\n    Line #654 (got 5 columns instead of 6)\n    Line #657 (got 5 columns instead of 6)\n    Line #668 (got 5 columns instead of 6)\n    Line #670 (got 5 columns instead of 6)\n    Line #675 (got 5 columns instead of 6)\n    Line #681 (got 5 columns instead of 6)\n    Line #693 (got 5 columns instead of 6)\n    Line #698 (got 5 columns instead of 6)\n    Line #710 (got 5 columns instead of 6)\n    Line #712 (got 5 columns instead of 6)\n    Line #719 (got 5 columns instead of 6)\n    Line #728 (got 5 columns instead of 6)\n    Line #733 (got 5 columns instead of 6)\n    Line #739 (got 5 columns instead of 6)\n    Line #740 (got 5 columns instead of 6)\n    Line #741 (got 5 columns instead of 6)\n    Line #761 (got 5 columns instead of 6)\n    Line #767 (got 5 columns instead of 6)\n    Line #769 (got 5 columns instead of 6)\n    Line #774 (got 5 columns instead of 6)\n    Line #777 (got 5 columns instead of 6)\n    Line #779 (got 5 columns instead of 6)\n    Line #784 (got 5 columns instead of 6)\n    Line #791 (got 5 columns instead of 6)\n    Line #793 (got 5 columns instead of 6)\n    Line #794 (got 5 columns instead of 6)\n    Line #816 (got 5 columns instead of 6)\n    Line #826 (got 5 columns instead of 6)\n    Line #827 (got 5 columns instead of 6)\n    Line #829 (got 5 columns instead of 6)\n    Line #833 (got 5 columns instead of 6)\n    Line #838 (got 5 columns instead of 6)\n    Line #840 (got 5 columns instead of 6)\n    Line #847 (got 5 columns instead of 6)\n    Line #850 (got 5 columns instead of 6)\n    Line #860 (got 5 columns instead of 6)\n    Line #864 (got 5 columns instead of 6)\n    Line #869 (got 5 columns instead of 6)\n    Line #879 (got 5 columns instead of 6)\n    Line #889 (got 5 columns instead of 6)",
     "output_type": "error",
     "traceback": [
      "\u001b[1;31m---------------------------------------------------------------------------\u001b[0m",
      "\u001b[1;31mValueError\u001b[0m                                Traceback (most recent call last)",
      "\u001b[1;32me:\\CS 178 Machine Learning\\Final Project\\Test for Titanic.ipynb Cell 3'\u001b[0m in \u001b[0;36m<cell line: 1>\u001b[1;34m()\u001b[0m\n\u001b[1;32m----> <a href='vscode-notebook-cell:/e%3A/CS%20178%20Machine%20Learning/Final%20Project/Test%20for%20Titanic.ipynb#ch0000002?line=0'>1</a>\u001b[0m titanic \u001b[39m=\u001b[39m np\u001b[39m.\u001b[39;49mgenfromtxt(\u001b[39m\"\u001b[39;49m\u001b[39mtrain.txt\u001b[39;49m\u001b[39m\"\u001b[39;49m, dtype\u001b[39m=\u001b[39;49m\u001b[39mfloat\u001b[39;49m)\n",
      "File \u001b[1;32mc:\\Users\\18748\\AppData\\Local\\Programs\\Python\\Python310\\lib\\site-packages\\numpy\\lib\\npyio.py:2145\u001b[0m, in \u001b[0;36mgenfromtxt\u001b[1;34m(fname, dtype, comments, delimiter, skip_header, skip_footer, converters, missing_values, filling_values, usecols, names, excludelist, deletechars, replace_space, autostrip, case_sensitive, defaultfmt, unpack, usemask, loose, invalid_raise, max_rows, encoding, like)\u001b[0m\n\u001b[0;32m   <a href='file:///c%3A/Users/18748/AppData/Local/Programs/Python/Python310/lib/site-packages/numpy/lib/npyio.py?line=2142'>2143</a>\u001b[0m \u001b[39m# Raise an exception ?\u001b[39;00m\n\u001b[0;32m   <a href='file:///c%3A/Users/18748/AppData/Local/Programs/Python/Python310/lib/site-packages/numpy/lib/npyio.py?line=2143'>2144</a>\u001b[0m \u001b[39mif\u001b[39;00m invalid_raise:\n\u001b[1;32m-> <a href='file:///c%3A/Users/18748/AppData/Local/Programs/Python/Python310/lib/site-packages/numpy/lib/npyio.py?line=2144'>2145</a>\u001b[0m     \u001b[39mraise\u001b[39;00m \u001b[39mValueError\u001b[39;00m(errmsg)\n\u001b[0;32m   <a href='file:///c%3A/Users/18748/AppData/Local/Programs/Python/Python310/lib/site-packages/numpy/lib/npyio.py?line=2145'>2146</a>\u001b[0m \u001b[39m# Issue a warning ?\u001b[39;00m\n\u001b[0;32m   <a href='file:///c%3A/Users/18748/AppData/Local/Programs/Python/Python310/lib/site-packages/numpy/lib/npyio.py?line=2146'>2147</a>\u001b[0m \u001b[39melse\u001b[39;00m:\n\u001b[0;32m   <a href='file:///c%3A/Users/18748/AppData/Local/Programs/Python/Python310/lib/site-packages/numpy/lib/npyio.py?line=2147'>2148</a>\u001b[0m     warnings\u001b[39m.\u001b[39mwarn(errmsg, ConversionWarning, stacklevel\u001b[39m=\u001b[39m\u001b[39m2\u001b[39m)\n",
      "\u001b[1;31mValueError\u001b[0m: Some errors were detected !\n    Line #6 (got 5 columns instead of 6)\n    Line #18 (got 5 columns instead of 6)\n    Line #20 (got 5 columns instead of 6)\n    Line #27 (got 5 columns instead of 6)\n    Line #29 (got 5 columns instead of 6)\n    Line #30 (got 5 columns instead of 6)\n    Line #32 (got 5 columns instead of 6)\n    Line #33 (got 5 columns instead of 6)\n    Line #37 (got 5 columns instead of 6)\n    Line #43 (got 5 columns instead of 6)\n    Line #46 (got 5 columns instead of 6)\n    Line #47 (got 5 columns instead of 6)\n    Line #48 (got 5 columns instead of 6)\n    Line #49 (got 5 columns instead of 6)\n    Line #56 (got 5 columns instead of 6)\n    Line #65 (got 5 columns instead of 6)\n    Line #66 (got 5 columns instead of 6)\n    Line #77 (got 5 columns instead of 6)\n    Line #78 (got 5 columns instead of 6)\n    Line #83 (got 5 columns instead of 6)\n    Line #88 (got 5 columns instead of 6)\n    Line #96 (got 5 columns instead of 6)\n    Line #102 (got 5 columns instead of 6)\n    Line #108 (got 5 columns instead of 6)\n    Line #110 (got 5 columns instead of 6)\n    Line #122 (got 5 columns instead of 6)\n    Line #127 (got 5 columns instead of 6)\n    Line #129 (got 5 columns instead of 6)\n    Line #141 (got 5 columns instead of 6)\n    Line #155 (got 5 columns instead of 6)\n    Line #159 (got 5 columns instead of 6)\n    Line #160 (got 5 columns instead of 6)\n    Line #167 (got 5 columns instead of 6)\n    Line #169 (got 5 columns instead of 6)\n    Line #177 (got 5 columns instead of 6)\n    Line #181 (got 5 columns instead of 6)\n    Line #182 (got 5 columns instead of 6)\n    Line #186 (got 5 columns instead of 6)\n    Line #187 (got 5 columns instead of 6)\n    Line #197 (got 5 columns instead of 6)\n    Line #199 (got 5 columns instead of 6)\n    Line #202 (got 5 columns instead of 6)\n    Line #215 (got 5 columns instead of 6)\n    Line #224 (got 5 columns instead of 6)\n    Line #230 (got 5 columns instead of 6)\n    Line #236 (got 5 columns instead of 6)\n    Line #241 (got 5 columns instead of 6)\n    Line #242 (got 5 columns instead of 6)\n    Line #251 (got 5 columns instead of 6)\n    Line #257 (got 5 columns instead of 6)\n    Line #261 (got 5 columns instead of 6)\n    Line #265 (got 5 columns instead of 6)\n    Line #271 (got 5 columns instead of 6)\n    Line #275 (got 5 columns instead of 6)\n    Line #278 (got 5 columns instead of 6)\n    Line #285 (got 5 columns instead of 6)\n    Line #296 (got 5 columns instead of 6)\n    Line #299 (got 5 columns instead of 6)\n    Line #301 (got 5 columns instead of 6)\n    Line #302 (got 5 columns instead of 6)\n    Line #304 (got 5 columns instead of 6)\n    Line #305 (got 5 columns instead of 6)\n    Line #307 (got 5 columns instead of 6)\n    Line #325 (got 5 columns instead of 6)\n    Line #331 (got 5 columns instead of 6)\n    Line #335 (got 5 columns instead of 6)\n    Line #336 (got 5 columns instead of 6)\n    Line #348 (got 5 columns instead of 6)\n    Line #352 (got 5 columns instead of 6)\n    Line #355 (got 5 columns instead of 6)\n    Line #359 (got 5 columns instead of 6)\n    Line #360 (got 5 columns instead of 6)\n    Line #365 (got 5 columns instead of 6)\n    Line #368 (got 5 columns instead of 6)\n    Line #369 (got 5 columns instead of 6)\n    Line #376 (got 5 columns instead of 6)\n    Line #385 (got 5 columns instead of 6)\n    Line #389 (got 5 columns instead of 6)\n    Line #410 (got 5 columns instead of 6)\n    Line #411 (got 5 columns instead of 6)\n    Line #412 (got 5 columns instead of 6)\n    Line #414 (got 5 columns instead of 6)\n    Line #416 (got 5 columns instead of 6)\n    Line #421 (got 5 columns instead of 6)\n    Line #426 (got 5 columns instead of 6)\n    Line #429 (got 5 columns instead of 6)\n    Line #432 (got 5 columns instead of 6)\n    Line #445 (got 5 columns instead of 6)\n    Line #452 (got 5 columns instead of 6)\n    Line #455 (got 5 columns instead of 6)\n    Line #458 (got 5 columns instead of 6)\n    Line #460 (got 5 columns instead of 6)\n    Line #465 (got 5 columns instead of 6)\n    Line #467 (got 5 columns instead of 6)\n    Line #469 (got 5 columns instead of 6)\n    Line #471 (got 5 columns instead of 6)\n    Line #476 (got 5 columns instead of 6)\n    Line #482 (got 5 columns instead of 6)\n    Line #486 (got 5 columns instead of 6)\n    Line #491 (got 5 columns instead of 6)\n    Line #496 (got 5 columns instead of 6)\n    Line #498 (got 5 columns instead of 6)\n    Line #503 (got 5 columns instead of 6)\n    Line #508 (got 5 columns instead of 6)\n    Line #512 (got 5 columns instead of 6)\n    Line #518 (got 5 columns instead of 6)\n    Line #523 (got 5 columns instead of 6)\n    Line #525 (got 5 columns instead of 6)\n    Line #528 (got 5 columns instead of 6)\n    Line #532 (got 5 columns instead of 6)\n    Line #534 (got 5 columns instead of 6)\n    Line #539 (got 5 columns instead of 6)\n    Line #548 (got 5 columns instead of 6)\n    Line #553 (got 5 columns instead of 6)\n    Line #558 (got 5 columns instead of 6)\n    Line #561 (got 5 columns instead of 6)\n    Line #564 (got 5 columns instead of 6)\n    Line #565 (got 5 columns instead of 6)\n    Line #569 (got 5 columns instead of 6)\n    Line #574 (got 5 columns instead of 6)\n    Line #579 (got 5 columns instead of 6)\n    Line #585 (got 5 columns instead of 6)\n    Line #590 (got 5 columns instead of 6)\n    Line #594 (got 5 columns instead of 6)\n    Line #597 (got 5 columns instead of 6)\n    Line #599 (got 5 columns instead of 6)\n    Line #602 (got 5 columns instead of 6)\n    Line #603 (got 5 columns instead of 6)\n    Line #612 (got 5 columns instead of 6)\n    Line #613 (got 5 columns instead of 6)\n    Line #614 (got 5 columns instead of 6)\n    Line #630 (got 5 columns instead of 6)\n    Line #634 (got 5 columns instead of 6)\n    Line #640 (got 5 columns instead of 6)\n    Line #644 (got 5 columns instead of 6)\n    Line #649 (got 5 columns instead of 6)\n    Line #651 (got 5 columns instead of 6)\n    Line #654 (got 5 columns instead of 6)\n    Line #657 (got 5 columns instead of 6)\n    Line #668 (got 5 columns instead of 6)\n    Line #670 (got 5 columns instead of 6)\n    Line #675 (got 5 columns instead of 6)\n    Line #681 (got 5 columns instead of 6)\n    Line #693 (got 5 columns instead of 6)\n    Line #698 (got 5 columns instead of 6)\n    Line #710 (got 5 columns instead of 6)\n    Line #712 (got 5 columns instead of 6)\n    Line #719 (got 5 columns instead of 6)\n    Line #728 (got 5 columns instead of 6)\n    Line #733 (got 5 columns instead of 6)\n    Line #739 (got 5 columns instead of 6)\n    Line #740 (got 5 columns instead of 6)\n    Line #741 (got 5 columns instead of 6)\n    Line #761 (got 5 columns instead of 6)\n    Line #767 (got 5 columns instead of 6)\n    Line #769 (got 5 columns instead of 6)\n    Line #774 (got 5 columns instead of 6)\n    Line #777 (got 5 columns instead of 6)\n    Line #779 (got 5 columns instead of 6)\n    Line #784 (got 5 columns instead of 6)\n    Line #791 (got 5 columns instead of 6)\n    Line #793 (got 5 columns instead of 6)\n    Line #794 (got 5 columns instead of 6)\n    Line #816 (got 5 columns instead of 6)\n    Line #826 (got 5 columns instead of 6)\n    Line #827 (got 5 columns instead of 6)\n    Line #829 (got 5 columns instead of 6)\n    Line #833 (got 5 columns instead of 6)\n    Line #838 (got 5 columns instead of 6)\n    Line #840 (got 5 columns instead of 6)\n    Line #847 (got 5 columns instead of 6)\n    Line #850 (got 5 columns instead of 6)\n    Line #860 (got 5 columns instead of 6)\n    Line #864 (got 5 columns instead of 6)\n    Line #869 (got 5 columns instead of 6)\n    Line #879 (got 5 columns instead of 6)\n    Line #889 (got 5 columns instead of 6)"
     ]
    }
   ],
   "source": [
    "titanic = np.genfromtxt(\"train.txt\", dtype=float)"
   ]
  },
  {
   "cell_type": "code",
   "execution_count": 4,
   "metadata": {},
   "outputs": [
    {
     "name": "stdout",
     "output_type": "stream",
     "text": [
      "[]\n"
     ]
    }
   ],
   "source": [
    "print(titanic)"
   ]
  },
  {
   "cell_type": "code",
   "execution_count": null,
   "metadata": {},
   "outputs": [],
   "source": []
  }
 ],
 "metadata": {
  "interpreter": {
   "hash": "95e0d798ce8717b2f988b58e69fb6fcdeead87a73638d62bef31342abff73234"
  },
  "kernelspec": {
   "display_name": "Python 3.10.4 64-bit",
   "language": "python",
   "name": "python3"
  },
  "language_info": {
   "codemirror_mode": {
    "name": "ipython",
    "version": 3
   },
   "file_extension": ".py",
   "mimetype": "text/x-python",
   "name": "python",
   "nbconvert_exporter": "python",
   "pygments_lexer": "ipython3",
   "version": "3.10.4"
  },
  "orig_nbformat": 4
 },
 "nbformat": 4,
 "nbformat_minor": 2
}
