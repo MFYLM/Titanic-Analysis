{
 "cells": [
  {
   "cell_type": "markdown",
   "metadata": {},
   "source": [
    "# Stacking different models together"
   ]
  },
  {
   "cell_type": "code",
   "execution_count": 1,
   "metadata": {},
   "outputs": [],
   "source": [
    "# collecting randomforest, neural network, logistic regress\n",
    "import models\n",
    "import preprocessing\n",
    "from sklearn.metrics import accuracy_score\n",
    "from sklearn.model_selection import train_test_split\n",
    "from sklearn.metrics import classification_report\n",
    "from sklearn.metrics import ConfusionMatrixDisplay, confusion_matrix\n",
    "from sklearn.preprocessing import StandardScaler\n",
    "from sklearn.ensemble import StackingClassifier\n",
    "from sklearn.ensemble import BaggingClassifier\n",
    "from sklearn.neural_network import MLPClassifier\n",
    "from sklearn.linear_model import LogisticRegression\n",
    "from sklearn.preprocessing import PolynomialFeatures\n",
    "import pandas as pd"
   ]
  },
  {
   "cell_type": "markdown",
   "metadata": {},
   "source": [
    "# Stacking classifiers"
   ]
  },
  {
   "cell_type": "code",
   "execution_count": 4,
   "metadata": {},
   "outputs": [
    {
     "data": {
      "text/plain": [
       "0.8033707865168539"
      ]
     },
     "execution_count": 4,
     "metadata": {},
     "output_type": "execute_result"
    }
   ],
   "source": [
    "df = preprocessing.column_selection(\"data/train.csv\")\n",
    "X = df.drop(columns=\"Survived\", axis=1)\n",
    "Y = df[\"Survived\"]\n",
    "\n",
    "X_train, X_test, Y_train, Y_test = train_test_split(X, Y, test_size=0.2)\n",
    "\n",
    "# rescale data in trainnig stage (decrease sensitivity of the model)            make sure inputs are in the range of activision function (so MLP could learn from features)\n",
    "sc = StandardScaler()\n",
    "scaler = sc.fit(X)\n",
    "trainX_scaled = scaler.transform(X_train)\n",
    "testX_scaled = scaler.transform(X_test)\n",
    "\n",
    "nn = models.neuralNetwork(X_train, Y_train)\n",
    "logReg = models.logRegression(X_train, Y_train)\n",
    "forest = models.randforestclassf(X_train, Y_train)\n",
    "\n",
    "#estimators = [('mlp', MLPClassifier(hidden_layer_sizes=(6, 2), max_iter=5000, activation=\"relu\", solver=\"adam\")), ('log', LogisticRegression(penalty=\"l2\", max_iter=5000))]\n",
    "estimators = [('mlp', nn), ('log', logReg), ('rf', forest)]\n",
    "clf = StackingClassifier(estimators=estimators, final_estimator=LogisticRegression(penalty=\"l2\", max_iter=5000))\n",
    "\n",
    "pol = PolynomialFeatures(2)\n",
    "\n",
    "clf.fit(pol.fit_transform(trainX_scaled), Y_train).score(pol.fit_transform(testX_scaled), Y_test)\n"
   ]
  },
  {
   "cell_type": "code",
   "execution_count": 14,
   "metadata": {},
   "outputs": [],
   "source": [
    "df2 = preprocessing.column_selection(\"data/test.csv\")\n",
    "y_pred = clf.predict(pol.fit_transform(df2))\n",
    "y_pred = pd.DataFrame(y_pred)\n",
    "y_pred.columns = [\"Survived\"]\n",
    "y_pred.to_csv(\"submission.csv\")"
   ]
  },
  {
   "cell_type": "markdown",
   "metadata": {},
   "source": [
    "# Bagging"
   ]
  },
  {
   "cell_type": "code",
   "execution_count": null,
   "metadata": {},
   "outputs": [],
   "source": [
    "# separate train data into several subsets and fit them into different models \n",
    "BaggingClassifier()"
   ]
  }
 ],
 "metadata": {
  "interpreter": {
   "hash": "95e0d798ce8717b2f988b58e69fb6fcdeead87a73638d62bef31342abff73234"
  },
  "kernelspec": {
   "display_name": "Python 3.10.4 64-bit",
   "language": "python",
   "name": "python3"
  },
  "language_info": {
   "codemirror_mode": {
    "name": "ipython",
    "version": 3
   },
   "file_extension": ".py",
   "mimetype": "text/x-python",
   "name": "python",
   "nbconvert_exporter": "python",
   "pygments_lexer": "ipython3",
   "version": "3.10.4"
  },
  "orig_nbformat": 4
 },
 "nbformat": 4,
 "nbformat_minor": 2
}
